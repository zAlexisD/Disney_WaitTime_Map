{
 "cells": [
  {
   "cell_type": "code",
   "execution_count": 1,
   "id": "6b3567e2-1ab2-4983-91df-52cc5f059ead",
   "metadata": {},
   "outputs": [],
   "source": [
    "import pandas as pd"
   ]
  },
  {
   "cell_type": "code",
   "execution_count": 9,
   "id": "8995882f-fb78-47c2-a454-75168e64441f",
   "metadata": {},
   "outputs": [],
   "source": [
    "stats = pd.read_excel(\"Disney_data.xlsx\",sheet_name=\"Stats overall\")\n",
    "mon = pd.read_excel(\"Disney_data.xlsx\",sheet_name=\"Lun\")\n",
    "tue = pd.read_excel(\"Disney_data.xlsx\",sheet_name=\"Mar\")\n",
    "wed = pd.read_excel(\"Disney_data.xlsx\",sheet_name=\"Mer\")\n",
    "thu = pd.read_excel(\"Disney_data.xlsx\",sheet_name=\"Jeu\")\n",
    "fri = pd.read_excel(\"Disney_data.xlsx\",sheet_name=\"Ven\")\n",
    "sat = pd.read_excel(\"Disney_data.xlsx\",sheet_name=\"Sam\")\n",
    "sun = pd.read_excel(\"Disney_data.xlsx\",sheet_name=\"Dim\")"
   ]
  },
  {
   "cell_type": "code",
   "execution_count": 10,
   "id": "db64bb79-0657-4e67-bdee-b64b37c6c339",
   "metadata": {},
   "outputs": [],
   "source": [
    "def cleanData(df):\n",
    "    # Select all columns that start with \"Avg\"\n",
    "    avg_cols = [c for c in df.columns if c.startswith(\"Avg\")]\n",
    "    for col in avg_cols:\n",
    "        # Convert numeric values, ignore strings\n",
    "        df[col] = pd.to_numeric(df[col], errors='coerce').round(0).astype('Int64') \\\n",
    "                   .combine_first(df[col])\n",
    "    # Select all columns that are \"Closing rate\" or start with \"CR\"\n",
    "    cr_cols = [c for c in df.columns if c == \"Closing rate\" or c.startswith(\"CR\")]\n",
    "    for col in cr_cols:\n",
    "        df[col] = pd.to_numeric(df[col], errors='coerce') \\\n",
    "                   .mul(100).round(2) \\\n",
    "                   .combine_first(df[col])"
   ]
  },
  {
   "cell_type": "code",
   "execution_count": 11,
   "id": "b2960d37-16cd-420d-a749-e810e8057a58",
   "metadata": {},
   "outputs": [
    {
     "name": "stderr",
     "output_type": "stream",
     "text": [
      "C:\\Users\\lantu\\AppData\\Local\\Temp\\ipykernel_2948\\186449399.py:7: FutureWarning: The behavior of array concatenation with empty entries is deprecated. In a future version, this will no longer exclude empty items when determining the result dtype. To retain the old behavior, exclude the empty entries before the concat operation.\n",
      "  .combine_first(df[col])\n",
      "C:\\Users\\lantu\\AppData\\Local\\Temp\\ipykernel_2948\\186449399.py:7: FutureWarning: The behavior of array concatenation with empty entries is deprecated. In a future version, this will no longer exclude empty items when determining the result dtype. To retain the old behavior, exclude the empty entries before the concat operation.\n",
      "  .combine_first(df[col])\n",
      "C:\\Users\\lantu\\AppData\\Local\\Temp\\ipykernel_2948\\186449399.py:7: FutureWarning: The behavior of array concatenation with empty entries is deprecated. In a future version, this will no longer exclude empty items when determining the result dtype. To retain the old behavior, exclude the empty entries before the concat operation.\n",
      "  .combine_first(df[col])\n",
      "C:\\Users\\lantu\\AppData\\Local\\Temp\\ipykernel_2948\\186449399.py:7: FutureWarning: The behavior of array concatenation with empty entries is deprecated. In a future version, this will no longer exclude empty items when determining the result dtype. To retain the old behavior, exclude the empty entries before the concat operation.\n",
      "  .combine_first(df[col])\n",
      "C:\\Users\\lantu\\AppData\\Local\\Temp\\ipykernel_2948\\186449399.py:7: FutureWarning: The behavior of array concatenation with empty entries is deprecated. In a future version, this will no longer exclude empty items when determining the result dtype. To retain the old behavior, exclude the empty entries before the concat operation.\n",
      "  .combine_first(df[col])\n",
      "C:\\Users\\lantu\\AppData\\Local\\Temp\\ipykernel_2948\\186449399.py:7: FutureWarning: The behavior of array concatenation with empty entries is deprecated. In a future version, this will no longer exclude empty items when determining the result dtype. To retain the old behavior, exclude the empty entries before the concat operation.\n",
      "  .combine_first(df[col])\n",
      "C:\\Users\\lantu\\AppData\\Local\\Temp\\ipykernel_2948\\186449399.py:7: FutureWarning: The behavior of array concatenation with empty entries is deprecated. In a future version, this will no longer exclude empty items when determining the result dtype. To retain the old behavior, exclude the empty entries before the concat operation.\n",
      "  .combine_first(df[col])\n",
      "C:\\Users\\lantu\\AppData\\Local\\Temp\\ipykernel_2948\\186449399.py:7: FutureWarning: The behavior of array concatenation with empty entries is deprecated. In a future version, this will no longer exclude empty items when determining the result dtype. To retain the old behavior, exclude the empty entries before the concat operation.\n",
      "  .combine_first(df[col])\n",
      "C:\\Users\\lantu\\AppData\\Local\\Temp\\ipykernel_2948\\186449399.py:7: FutureWarning: The behavior of array concatenation with empty entries is deprecated. In a future version, this will no longer exclude empty items when determining the result dtype. To retain the old behavior, exclude the empty entries before the concat operation.\n",
      "  .combine_first(df[col])\n",
      "C:\\Users\\lantu\\AppData\\Local\\Temp\\ipykernel_2948\\186449399.py:7: FutureWarning: The behavior of array concatenation with empty entries is deprecated. In a future version, this will no longer exclude empty items when determining the result dtype. To retain the old behavior, exclude the empty entries before the concat operation.\n",
      "  .combine_first(df[col])\n",
      "C:\\Users\\lantu\\AppData\\Local\\Temp\\ipykernel_2948\\186449399.py:7: FutureWarning: The behavior of array concatenation with empty entries is deprecated. In a future version, this will no longer exclude empty items when determining the result dtype. To retain the old behavior, exclude the empty entries before the concat operation.\n",
      "  .combine_first(df[col])\n",
      "C:\\Users\\lantu\\AppData\\Local\\Temp\\ipykernel_2948\\186449399.py:7: FutureWarning: The behavior of array concatenation with empty entries is deprecated. In a future version, this will no longer exclude empty items when determining the result dtype. To retain the old behavior, exclude the empty entries before the concat operation.\n",
      "  .combine_first(df[col])\n",
      "C:\\Users\\lantu\\AppData\\Local\\Temp\\ipykernel_2948\\186449399.py:7: FutureWarning: The behavior of array concatenation with empty entries is deprecated. In a future version, this will no longer exclude empty items when determining the result dtype. To retain the old behavior, exclude the empty entries before the concat operation.\n",
      "  .combine_first(df[col])\n",
      "C:\\Users\\lantu\\AppData\\Local\\Temp\\ipykernel_2948\\186449399.py:7: FutureWarning: The behavior of array concatenation with empty entries is deprecated. In a future version, this will no longer exclude empty items when determining the result dtype. To retain the old behavior, exclude the empty entries before the concat operation.\n",
      "  .combine_first(df[col])\n",
      "C:\\Users\\lantu\\AppData\\Local\\Temp\\ipykernel_2948\\186449399.py:7: FutureWarning: The behavior of array concatenation with empty entries is deprecated. In a future version, this will no longer exclude empty items when determining the result dtype. To retain the old behavior, exclude the empty entries before the concat operation.\n",
      "  .combine_first(df[col])\n",
      "C:\\Users\\lantu\\AppData\\Local\\Temp\\ipykernel_2948\\186449399.py:7: FutureWarning: The behavior of array concatenation with empty entries is deprecated. In a future version, this will no longer exclude empty items when determining the result dtype. To retain the old behavior, exclude the empty entries before the concat operation.\n",
      "  .combine_first(df[col])\n",
      "C:\\Users\\lantu\\AppData\\Local\\Temp\\ipykernel_2948\\186449399.py:7: FutureWarning: The behavior of array concatenation with empty entries is deprecated. In a future version, this will no longer exclude empty items when determining the result dtype. To retain the old behavior, exclude the empty entries before the concat operation.\n",
      "  .combine_first(df[col])\n",
      "C:\\Users\\lantu\\AppData\\Local\\Temp\\ipykernel_2948\\186449399.py:7: FutureWarning: The behavior of array concatenation with empty entries is deprecated. In a future version, this will no longer exclude empty items when determining the result dtype. To retain the old behavior, exclude the empty entries before the concat operation.\n",
      "  .combine_first(df[col])\n",
      "C:\\Users\\lantu\\AppData\\Local\\Temp\\ipykernel_2948\\186449399.py:7: FutureWarning: The behavior of array concatenation with empty entries is deprecated. In a future version, this will no longer exclude empty items when determining the result dtype. To retain the old behavior, exclude the empty entries before the concat operation.\n",
      "  .combine_first(df[col])\n",
      "C:\\Users\\lantu\\AppData\\Local\\Temp\\ipykernel_2948\\186449399.py:7: FutureWarning: The behavior of array concatenation with empty entries is deprecated. In a future version, this will no longer exclude empty items when determining the result dtype. To retain the old behavior, exclude the empty entries before the concat operation.\n",
      "  .combine_first(df[col])\n",
      "C:\\Users\\lantu\\AppData\\Local\\Temp\\ipykernel_2948\\186449399.py:7: FutureWarning: The behavior of array concatenation with empty entries is deprecated. In a future version, this will no longer exclude empty items when determining the result dtype. To retain the old behavior, exclude the empty entries before the concat operation.\n",
      "  .combine_first(df[col])\n",
      "C:\\Users\\lantu\\AppData\\Local\\Temp\\ipykernel_2948\\186449399.py:7: FutureWarning: The behavior of array concatenation with empty entries is deprecated. In a future version, this will no longer exclude empty items when determining the result dtype. To retain the old behavior, exclude the empty entries before the concat operation.\n",
      "  .combine_first(df[col])\n"
     ]
    }
   ],
   "source": [
    "cleanData(stats)\n",
    "cleanData(mon)\n",
    "cleanData(tue)\n",
    "cleanData(wed)\n",
    "cleanData(thu)\n",
    "cleanData(fri)\n",
    "cleanData(sat)\n",
    "cleanData(sun)"
   ]
  },
  {
   "cell_type": "code",
   "execution_count": 12,
   "id": "ecc20103",
   "metadata": {},
   "outputs": [],
   "source": [
    "stats.to_json(\"Overall.json\", orient=\"records\", indent=2)\n",
    "mon.to_json(\"Monday.json\", orient=\"records\", indent=2)\n",
    "tue.to_json(\"Tuesday.json\", orient=\"records\", indent=2)\n",
    "wed.to_json(\"Wednesday.json\", orient=\"records\", indent=2)\n",
    "thu.to_json(\"Thursday.json\", orient=\"records\", indent=2)\n",
    "fri.to_json(\"Friday.json\", orient=\"records\", indent=2)\n",
    "sat.to_json(\"Saturday.json\", orient=\"records\", indent=2)\n",
    "sun.to_json(\"Sunday.json\", orient=\"records\", indent=2)"
   ]
  },
  {
   "cell_type": "code",
   "execution_count": null,
   "id": "67cc5b75-00a3-4a48-8451-0511da41cdca",
   "metadata": {},
   "outputs": [],
   "source": []
  }
 ],
 "metadata": {
  "kernelspec": {
   "display_name": "Python 3 (ipykernel)",
   "language": "python",
   "name": "python3"
  },
  "language_info": {
   "codemirror_mode": {
    "name": "ipython",
    "version": 3
   },
   "file_extension": ".py",
   "mimetype": "text/x-python",
   "name": "python",
   "nbconvert_exporter": "python",
   "pygments_lexer": "ipython3",
   "version": "3.13.5"
  }
 },
 "nbformat": 4,
 "nbformat_minor": 5
}
