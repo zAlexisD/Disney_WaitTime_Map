{
 "cells": [
  {
   "cell_type": "code",
   "execution_count": 2,
   "id": "6b3567e2-1ab2-4983-91df-52cc5f059ead",
   "metadata": {},
   "outputs": [],
   "source": [
    "import pandas as pd"
   ]
  },
  {
   "cell_type": "code",
   "execution_count": null,
   "id": "8995882f-fb78-47c2-a454-75168e64441f",
   "metadata": {},
   "outputs": [],
   "source": [
    "stats = pd.read_excel(\"Disney_data.xlsx\",sheet_name=\"Stats overall\")\n",
    "mon = pd.read_excel(\"Disney_data.xlsx\",sheet_name=\"Lun\")\n",
    "tue = pd.read_excel(\"Disney_data.xlsx\",sheet_name=\"Mar\")\n",
    "wed = pd.read_excel(\"Disney_data.xlsx\",sheet_name=\"Mer\")\n",
    "thu = pd.read_excel(\"Disney_data.xlsx\",sheet_name=\"Jeu\")\n",
    "fri = pd.read_excel(\"Disney_data.xlsx\",sheet_name=\"Ven\")\n",
    "sat = pd.read_excel(\"Disney_data.xlsx\",sheet_name=\"Sam\")\n",
    "sun = pd.read_excel(\"Disney_data.xlsx\",sheet_name=\"Dim\")"
   ]
  },
  {
   "cell_type": "code",
   "execution_count": null,
   "id": "ecc20103",
   "metadata": {},
   "outputs": [],
   "source": [
    "stats.to_json(\"Overall.json\", orient=\"records\", indent=2)\n",
    "mon.to_json(\"Monday.json\", orient=\"records\", indent=2)\n",
    "tue.to_json(\"Tuesday.json\", orient=\"records\", indent=2)\n",
    "wed.to_json(\"Wednesday.json\", orient=\"records\", indent=2)\n",
    "thu.to_json(\"Thursday.json\", orient=\"records\", indent=2)\n",
    "fri.to_json(\"Friday.json\", orient=\"records\", indent=2)\n",
    "sat.to_json(\"Saturday.json\", orient=\"records\", indent=2)\n",
    "sun.to_json(\"Sunday.json\", orient=\"records\", indent=2)"
   ]
  },
  {
   "cell_type": "code",
   "execution_count": null,
   "id": "67cc5b75-00a3-4a48-8451-0511da41cdca",
   "metadata": {},
   "outputs": [],
   "source": []
  }
 ],
 "metadata": {
  "kernelspec": {
   "display_name": "Python 3 (ipykernel)",
   "language": "python",
   "name": "python3"
  },
  "language_info": {
   "codemirror_mode": {
    "name": "ipython",
    "version": 3
   },
   "file_extension": ".py",
   "mimetype": "text/x-python",
   "name": "python",
   "nbconvert_exporter": "python",
   "pygments_lexer": "ipython3",
   "version": "3.13.5"
  }
 },
 "nbformat": 4,
 "nbformat_minor": 5
}
